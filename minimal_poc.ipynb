{
 "cells": [
  {
   "cell_type": "code",
   "execution_count": 1,
   "id": "d2c6b4cd",
   "metadata": {},
   "outputs": [],
   "source": [
    "# Note that this poc is based on the reply of Vitalik on EthResearch here:\n",
    "# https://ethresear.ch/t/erc721-extension-for-zk-snarks/13237/13\n",
    "\n",
    "# The code is not part of the zk-SNARK implementation an will be moved."
   ]
  },
  {
   "cell_type": "code",
   "execution_count": 27,
   "id": "6bcea120",
   "metadata": {},
   "outputs": [],
   "source": [
    "import hashlib\n",
    "from py_ecc.secp256k1 import *\n",
    "import sha3\n",
    "from eth_account import Account"
   ]
  },
  {
   "cell_type": "markdown",
   "id": "22ca0bf7",
   "metadata": {},
   "source": [
    "$S = G*s$"
   ]
  },
  {
   "cell_type": "code",
   "execution_count": 19,
   "id": "bb9355a0",
   "metadata": {},
   "outputs": [
    {
     "data": {
      "text/plain": [
       "(22246744184454969143801186698733154500632648736073949898323976612504587645286,\n",
       " 110772761940586493986212935445517909380300793379795289150161960681985511655321)"
      ]
     },
     "execution_count": 19,
     "metadata": {},
     "output_type": "execute_result"
    }
   ],
   "source": [
    "# privkey: 0xd952fe0740d9d14011fc8ead3ab7de3c739d3aa93ce9254c10b0134d80d26a30\n",
    "# address: 0x3CB39EA2f14B16B69B451719A7BEd55e0aFEcE8F\n",
    "s = int(0xd952fe0740d9d14011fc8ead3ab7de3c739d3aa93ce9254c10b0134d80d26a30) # private key\n",
    "S = secp256k1.privtopub(s.to_bytes(32, \"big\")) # public key\n",
    "S"
   ]
  },
  {
   "cell_type": "code",
   "execution_count": 33,
   "id": "092fa6b9",
   "metadata": {},
   "outputs": [
    {
     "data": {
      "text/plain": [
       "98298522841001936806542785690725155579423954746529030545381741127082542524976"
      ]
     },
     "execution_count": 33,
     "metadata": {},
     "output_type": "execute_result"
    }
   ],
   "source": [
    "0xd952fe0740d9d14011fc8ead3ab7de3c739d3aa93ce9254c10b0134d80d26a30"
   ]
  },
  {
   "cell_type": "markdown",
   "id": "6895e603",
   "metadata": {},
   "source": [
    "$P = G*p$"
   ]
  },
  {
   "cell_type": "code",
   "execution_count": 18,
   "id": "c8e2d6ad",
   "metadata": {},
   "outputs": [
    {
     "data": {
      "text/plain": [
       "(89565891926547004231252920425935692360644145829622209833684329913297188986597,\n",
       " 12158399299693830322967808612713398636155367887041628176798871954788371653930)"
      ]
     },
     "execution_count": 18,
     "metadata": {},
     "output_type": "execute_result"
    }
   ],
   "source": [
    "# privkey: 0x0000000000000000000000000000000000000000000000000000000000000001\n",
    "# address: 0x7E5F4552091A69125d5DfCb7b8C2659029395Bdf\n",
    "p = int(0x0000000000000000000000000000000000000000000000000000000000000002) # private key\n",
    "P = secp256k1.privtopub(p.to_bytes(32, \"big\")) # public key\n",
    "P"
   ]
  },
  {
   "cell_type": "code",
   "execution_count": 16,
   "id": "48c3a566",
   "metadata": {},
   "outputs": [
    {
     "data": {
      "text/plain": [
       "'0x2B5AD5c4795c026514f8317c7a215E218DcCD6cF'"
      ]
     },
     "execution_count": 16,
     "metadata": {},
     "output_type": "execute_result"
    }
   ],
   "source": [
    "Account.from_key((p).to_bytes(32, \"big\")).address"
   ]
  },
  {
   "cell_type": "code",
   "execution_count": 38,
   "id": "7ac7a427",
   "metadata": {},
   "outputs": [],
   "source": [
    "prefix = b'\\x04'\n",
    "x_coordinate = (89565891926547004231252920425935692360644145829622209833684329913297188986597).to_bytes(32, 'big')\n",
    "y_coordinate = (12158399299693830322967808612713398636155367887041628176798871954788371653930).to_bytes(32, 'big')\n",
    "\n",
    "h = x_coordinate + y_coordinate"
   ]
  },
  {
   "cell_type": "code",
   "execution_count": 8,
   "id": "02fe1743",
   "metadata": {},
   "outputs": [
    {
     "data": {
      "text/plain": [
       "'ea6b73a7ca28156a03a3d04935147a16474c5d67562683ea15d9733a9b803a82'"
      ]
     },
     "execution_count": 8,
     "metadata": {},
     "output_type": "execute_result"
    }
   ],
   "source": [
    "Q_hased.hex()"
   ]
  },
  {
   "cell_type": "code",
   "execution_count": 15,
   "id": "5cb463f1",
   "metadata": {},
   "outputs": [
    {
     "data": {
      "text/plain": [
       "130"
      ]
     },
     "execution_count": 15,
     "metadata": {},
     "output_type": "execute_result"
    }
   ],
   "source": [
    "len(\"0xab02e56219226a4996e24c490b021be6b708aeb9dde4c1543cada648d3dd5cbf25d8cda20616aed32bc4b4e27b604efa15e102d9388ff0e1236431a950cfe52a\")"
   ]
  },
  {
   "cell_type": "code",
   "execution_count": 23,
   "id": "63b1cab6",
   "metadata": {},
   "outputs": [
    {
     "data": {
      "text/plain": [
       "'0x1736e6db3d0b0087ac12816ba281abcc55ddfeb67649732e9f298366d7ce27d6cb46053a4dc2b13dbc6f81f7030a680eb3cf75c0ae9d7ca7abac09b95c709ee5'"
      ]
     },
     "execution_count": 23,
     "metadata": {},
     "output_type": "execute_result"
    }
   ],
   "source": [
    "hex(1215839929969383032296780861271339863615536788704162817679887195478837165393089565891926547004231252920425935692360644145829622209833684329913297188986597)"
   ]
  },
  {
   "cell_type": "code",
   "execution_count": 16,
   "id": "9f993e48",
   "metadata": {},
   "outputs": [
    {
     "data": {
      "text/plain": [
       "'90652c7eea91b7dee07b74006b19251015ca86fc64f56330275460a523adf36c60c3b3ddd6e2edaa831d37f61bded078129c161482562b52a6095f07ddee74a2'"
      ]
     },
     "execution_count": 16,
     "metadata": {},
     "output_type": "execute_result"
    }
   ],
   "source": [
    "t = (Q[0].to_bytes(32, \"big\")+Q[1].to_bytes(32, \"big\")).hex()\n",
    "\n",
    "t.hex()\n"
   ]
  },
  {
   "cell_type": "markdown",
   "id": "174929d7",
   "metadata": {},
   "source": [
    "$P + G*hash(Q)$"
   ]
  },
  {
   "cell_type": "code",
   "execution_count": 22,
   "id": "5f5fbcf4",
   "metadata": {},
   "outputs": [
    {
     "data": {
      "text/plain": [
       "(34986710196311298046001056196012031484809340405385241652824827959002221322031,\n",
       " 37835699564152814660978587905143437663484333033321007899868184134470225816011)"
      ]
     },
     "execution_count": 22,
     "metadata": {},
     "output_type": "execute_result"
    }
   ],
   "source": [
    "Q = secp256k1.multiply(S, p)\n",
    "assert Q == secp256k1.multiply(P, s)\n",
    "Q_hex = sha3.keccak_256(Q[0].to_bytes(32, \"big\")+Q[1].to_bytes(32, \"big\")).hexdigest() # note, toStr conversion\n",
    "Q_hased = bytearray.fromhex(Q_hex)\n",
    "\n",
    "# Sender sends to ...\n",
    "secp256k1.add(P, secp256k1.privtopub(Q_hased))"
   ]
  },
  {
   "cell_type": "code",
   "execution_count": 11,
   "id": "daec0c2e",
   "metadata": {},
   "outputs": [],
   "source": [
    "sha3.keccak_256??"
   ]
  },
  {
   "cell_type": "markdown",
   "id": "7673e439",
   "metadata": {},
   "source": [
    "$p+hash(Q)$"
   ]
  },
  {
   "cell_type": "code",
   "execution_count": 23,
   "id": "4013b57e",
   "metadata": {},
   "outputs": [
    {
     "data": {
      "text/plain": [
       "(34986710196311298046001056196012031484809340405385241652824827959002221322031,\n",
       " 37835699564152814660978587905143437663484333033321007899868184134470225816011)"
      ]
     },
     "execution_count": 23,
     "metadata": {},
     "output_type": "execute_result"
    }
   ],
   "source": [
    "p_stealth = p + int(Q_hex, 16)\n",
    "\n",
    "# Recipient has private key to ...\n",
    "P_stealth = secp256k1.privtopub(p_stealth.to_bytes(32, \"big\"))\n",
    "P_stealth"
   ]
  },
  {
   "cell_type": "code",
   "execution_count": 28,
   "id": "2712c07b",
   "metadata": {},
   "outputs": [
    {
     "data": {
      "text/plain": [
       "'0xa423e468c7987026D1dC797425a870C5e704E75d'"
      ]
     },
     "execution_count": 28,
     "metadata": {},
     "output_type": "execute_result"
    }
   ],
   "source": [
    "Account.from_key((p_stealth).to_bytes(32, \"big\")).address"
   ]
  },
  {
   "cell_type": "code",
   "execution_count": null,
   "id": "49f95b0f",
   "metadata": {},
   "outputs": [],
   "source": [
    "0x65825dd1831f24cc4736db5b2298888e35f5ff2729ebc441b5f5a61952eafb09"
   ]
  }
 ],
 "metadata": {
  "kernelspec": {
   "display_name": "stealth",
   "language": "python",
   "name": "stealth"
  },
  "language_info": {
   "codemirror_mode": {
    "name": "ipython",
    "version": 3
   },
   "file_extension": ".py",
   "mimetype": "text/x-python",
   "name": "python",
   "nbconvert_exporter": "python",
   "pygments_lexer": "ipython3",
   "version": "3.8.10"
  }
 },
 "nbformat": 4,
 "nbformat_minor": 5
}
